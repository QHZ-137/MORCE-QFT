{
 "cells": [
  {
   "cell_type": "markdown",
   "id": "a28a170e",
   "metadata": {},
   "source": [
    "# 🚀 Simulación MORCE-QFT\n",
    "Simulación de solitones semánticos bajo una ecuación de Kerr compleja."
   ]
  },
  {
   "cell_type": "code",
   "execution_count": null,
   "id": "40281c7f",
   "metadata": {},
   "outputs": [],
   "source": [
    "!pip install numpy matplotlib seaborn scipy qutip"
   ]
  },
  {
   "cell_type": "code",
   "execution_count": null,
   "id": "a7a85c60",
   "metadata": {},
   "outputs": [],
   "source": [
    "import numpy as np\n",
    "import matplotlib.pyplot as plt\n",
    "import seaborn as sns\n",
    "from scipy.integrate import solve_ivp\n",
    "from qutip import Bloch"
   ]
  },
  {
   "cell_type": "code",
   "execution_count": null,
   "id": "5bf6c020",
   "metadata": {},
   "outputs": [],
   "source": [
    "def kerr_soliton(t, phi, alpha, beta, gamma):\n",
    "    dphidt = -1j * (alpha * phi - beta * np.abs(phi)**2 * phi) - gamma * phi\n",
    "    return dphidt"
   ]
  },
  {
   "cell_type": "code",
   "execution_count": null,
   "id": "fe42aa0d",
   "metadata": {},
   "outputs": [],
   "source": [
    "def simulate(phi0, t_span, trials, alpha=1.0, beta=0.5, gamma=0.1):\n",
    "    results = []\n",
    "    t_eval = np.linspace(t_span[0], t_span[1], 100)\n",
    "    for _ in range(trials):\n",
    "        sol = solve_ivp(kerr_soliton, t_span, [phi0], t_eval=t_eval,\n",
    "                        args=(alpha, beta, gamma), method='BDF')\n",
    "        results.append(sol.y[0][-1])\n",
    "    return np.array(results), t_eval, sol.y[0]"
   ]
  },
  {
   "cell_type": "code",
   "execution_count": null,
   "id": "d9dfade7",
   "metadata": {},
   "outputs": [],
   "source": [
    "def quantum_bloch_representation(phi):\n",
    "    b = Bloch()\n",
    "    vec = [np.real(phi), np.imag(phi), 1 - 2 * np.abs(phi)**2]\n",
    "    norm = np.linalg.norm(vec)\n",
    "    if norm > 1e-9:\n",
    "        vec = [v / norm for v in vec]\n",
    "    else:\n",
    "        vec = [0, 0, 0]\n",
    "    b.add_vectors([vec])\n",
    "    b.render(title='Estados Cuánticos Semánticos')\n",
    "    return b"
   ]
  },
  {
   "cell_type": "code",
   "execution_count": null,
   "id": "96bf04d8",
   "metadata": {},
   "outputs": [],
   "source": [
    "def plot_results(results, time_series, t_eval):\n",
    "    plt.figure(figsize=(15, 10))\n",
    "    plt.subplot(221)\n",
    "    sns.histplot(np.angle(results), bins=30, kde=True, color=\"violet\")\n",
    "    plt.axvline(np.mean(np.angle(results)), color='red', linestyle='--',\n",
    "                label=f'Media: {np.mean(np.angle(results)):.3f} rad')\n",
    "    plt.title(\"Distribución de Fase Final Δφ\")\n",
    "    plt.xlabel(\"Fase (rad)\")\n",
    "    plt.ylabel(\"Frecuencia\")\n",
    "    plt.legend()\n",
    "\n",
    "    plt.subplot(222)\n",
    "    plt.plot(t_eval, np.abs(time_series), color='teal')\n",
    "    plt.title(\"Evolución del Campo de Fase (Amplitud)\")\n",
    "    plt.xlabel(\"Tiempo\")\n",
    "    plt.ylabel(\"Amplitud\")\n",
    "\n",
    "    plt.subplot(223)\n",
    "    plt.scatter(np.real(results), np.imag(results), alpha=0.6, color='purple')\n",
    "    plt.title(\"Espacio de Fases Complejo\")\n",
    "    plt.xlabel(\"Componente Real\")\n",
    "    plt.ylabel(\"Componente Imaginaria\")\n",
    "\n",
    "    plt.subplot(224)\n",
    "    sns.kdeplot(x=np.real(results), y=np.imag(results), fill=True, cmap=\"magma\")\n",
    "    plt.title(\"Densidad de Probabilidad Topológica\")\n",
    "    plt.tight_layout()\n",
    "    plt.savefig('morce_results.png', dpi=300)\n",
    "    plt.show()"
   ]
  },
  {
   "cell_type": "code",
   "execution_count": null,
   "id": "9037c75d",
   "metadata": {},
   "outputs": [],
   "source": [
    "phi0 = complex(0.7, 0.5)\n",
    "trials = 500\n",
    "t_max = 15.0\n",
    "\n",
    "print(\"⚡ Iniciando protocolo quirúrgico de falsación MORCE-QFT...\")\n",
    "print(f\"Parámetros: φ0 = {phi0}, Trials = {trials}, t_max = {t_max}\")\n",
    "\n",
    "results, t_eval, ts = simulate(phi0, [0, t_max], trials)\n",
    "print(\"✅ Simulación completada. Resultados:\")\n",
    "print(f\"• Coherencia promedio: {np.abs(np.mean(results)):.4f}\")\n",
    "print(f\"• Persistencia topológica: {np.mean(np.abs(results)):.4f}\")\n",
    "\n",
    "plot_results(results, ts, t_eval)\n",
    "bloch_sphere = quantum_bloch_representation(np.mean(results))\n",
    "bloch_sphere.save('bloch_representation.png')"
   ]
  },
  {
   "cell_type": "code",
   "execution_count": null,
   "id": "094787a2",
   "metadata": {},
   "outputs": [],
   "source": [
    "# Simulación directa (Colab-compatible)\n",
    "phi0 = complex(0.7, 0.5)\n",
    "trials = 500\n",
    "t_max = 15.0\n",
    "\n",
    "print(\"⚡ Iniciando protocolo quirúrgico de falsación MORCE-QFT...\")\n",
    "print(f\"Parámetros: φ0 = {phi0}, Trials = {trials}, t_max = {t_max}\")\n",
    "\n",
    "results, t_eval, ts = simulate(phi0, [0, t_max], trials)\n",
    "print(\"✅ Simulación completada. Resultados:\")\n",
    "print(f\"• Coherencia promedio: {np.abs(np.mean(results)):.4f}\")\n",
    "print(f\"• Persistencia topológica: {np.mean(np.abs(results)):.4f}\")\n",
    "\n",
    "plot_results(results, ts)\n",
    "bloch_sphere = quantum_bloch_representation(np.mean(results))\n",
    "bloch_sphere.save('bloch_representation.png')\n",
    "print(\"🌌 Visualización en esfera de Bloch guardada\")\n"
   ]
  }
 ],
 "metadata": {
  "language": "python"
 },
 "nbformat": 4,
 "nbformat_minor": 5
}
